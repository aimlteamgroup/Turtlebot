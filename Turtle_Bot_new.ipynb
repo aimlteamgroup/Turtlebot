{
 "cells": [
  {
   "cell_type": "markdown",
   "metadata": {
    "colab_type": "text",
    "id": "H0m1mkf_1KP6"
   },
   "source": [
    "**Importing required packages**"
   ]
  },
  {
   "cell_type": "markdown",
   "metadata": {
    "colab": {
     "autoexec": {
      "startup": false,
      "wait_interval": 0
     },
     "base_uri": "https://localhost:8080/",
     "height": 105
    },
    "colab_type": "code",
    "executionInfo": {
     "elapsed": 23484,
     "status": "ok",
     "timestamp": 1526707503612,
     "user": {
      "displayName": "Sudhanshu Mishra",
      "photoUrl": "https://lh3.googleusercontent.com/a/default-user=s128",
      "userId": "100119643097645463867"
     },
     "user_tz": -330
    },
    "id": "M6ogE3ZszUcd",
    "outputId": "9277f6c9-43cf-4015-93ad-84678c6e7dcf"
   },
   "source": [
    "!apt-get install -y -qq software-properties-common python-software-properties module-init-tools\n",
    "!add-apt-repository -y ppa:alessandro-strada/ppa 2>&1 > /dev/null\n",
    "!apt-get update -qq 2>&1 > /dev/null\n",
    "!apt-get -y install -qq google-drive-ocamlfuse fuse\n",
    "from google.colab import auth\n",
    "auth.authenticate_user()\n",
    "from oauth2client.client import GoogleCredentials\n",
    "creds = GoogleCredentials.get_application_default()\n",
    "import getpass\n",
    "!google-drive-ocamlfuse -headless -id={creds.client_id} -secret={creds.client_secret} < /dev/null 2>&1 | grep URL\n",
    "vcode = getpass.getpass()\n",
    "!echo {vcode} | google-drive-ocamlfuse -headless -id={creds.client_id} -secret={creds.client_secret}"
   ]
  },
  {
   "cell_type": "markdown",
   "metadata": {
    "colab": {
     "autoexec": {
      "startup": false,
      "wait_interval": 0
     }
    },
    "colab_type": "code",
    "id": "mI6XG3Jp0Ded"
   },
   "source": [
    "!mkdir -p Mydrive\n",
    "!google-drive-ocamlfuse Mydrive"
   ]
  },
  {
   "cell_type": "markdown",
   "metadata": {
    "colab": {
     "autoexec": {
      "startup": false,
      "wait_interval": 0
     },
     "base_uri": "https://localhost:8080/",
     "height": 34
    },
    "colab_type": "code",
    "executionInfo": {
     "elapsed": 1318,
     "status": "ok",
     "timestamp": 1526707508405,
     "user": {
      "displayName": "Sudhanshu Mishra",
      "photoUrl": "https://lh3.googleusercontent.com/a/default-user=s128",
      "userId": "100119643097645463867"
     },
     "user_tz": -330
    },
    "id": "tSc0qkjQ1liA",
    "outputId": "5b5ae861-f51b-4264-c422-51cfae3244d0"
   },
   "source": [
    "% cd Mydrive"
   ]
  },
  {
   "cell_type": "markdown",
   "metadata": {
    "colab": {
     "autoexec": {
      "startup": false,
      "wait_interval": 0
     },
     "base_uri": "https://localhost:8080/",
     "height": 34
    },
    "colab_type": "code",
    "executionInfo": {
     "elapsed": 2250,
     "status": "ok",
     "timestamp": 1526707510791,
     "user": {
      "displayName": "Sudhanshu Mishra",
      "photoUrl": "https://lh3.googleusercontent.com/a/default-user=s128",
      "userId": "100119643097645463867"
     },
     "user_tz": -330
    },
    "id": "THewbAuc15NL",
    "outputId": "392bae3f-4505-423f-b352-ff9166bdd112"
   },
   "source": [
    "ls"
   ]
  },
  {
   "cell_type": "code",
   "execution_count": 2,
   "metadata": {
    "colab": {
     "autoexec": {
      "startup": false,
      "wait_interval": 0
     }
    },
    "colab_type": "code",
    "id": "BGY7tikDuL5S"
   },
   "outputs": [],
   "source": [
    "import numpy as np\n",
    "X = np.load('X_data.npy')\n",
    "Y = np.load('Y_data.npy')"
   ]
  },
  {
   "cell_type": "code",
   "execution_count": 3,
   "metadata": {
    "colab": {
     "autoexec": {
      "startup": false,
      "wait_interval": 0
     }
    },
    "colab_type": "code",
    "id": "K4yD0myTzPt4"
   },
   "outputs": [],
   "source": [
    "IMG_SIZE= 256\n",
    "NUM_CLASSES = 6"
   ]
  },
  {
   "cell_type": "code",
   "execution_count": 4,
   "metadata": {
    "colab": {
     "autoexec": {
      "startup": false,
      "wait_interval": 0
     }
    },
    "colab_type": "code",
    "id": "S-RcuLKQ3nkh"
   },
   "outputs": [],
   "source": [
    "from keras.models import Sequential\n",
    "from keras.layers.core import Dense, Dropout, Activation, Flatten\n",
    "from keras.layers.convolutional import Conv2D\n",
    "from keras.layers.pooling import MaxPooling2D\n",
    "from keras.optimizers import SGD\n",
    "from keras import backend as K\n",
    "K.set_image_data_format('channels_first')\n",
    "\n",
    "\n",
    "def cnn_model():\n",
    "    model = Sequential()\n",
    "\n",
    "    model.add(Conv2D(32, (3, 3), padding='same',\n",
    "                     input_shape=(3, IMG_SIZE, IMG_SIZE),\n",
    "                     activation='relu'))\n",
    "    model.add(Conv2D(32, (3, 3), activation='relu'))\n",
    "    model.add(MaxPooling2D(pool_size=(2, 2)))\n",
    "    model.add(Dropout(0.2))\n",
    "\n",
    "    model.add(Conv2D(64, (3, 3), padding='same',\n",
    "                     activation='relu'))\n",
    "    model.add(Conv2D(64, (3, 3), activation='relu'))\n",
    "    model.add(MaxPooling2D(pool_size=(2, 2)))\n",
    "    model.add(Dropout(0.2))\n",
    "\n",
    "    model.add(Conv2D(128, (3, 3), padding='same', activation='relu'))\n",
    "    model.add(Conv2D(128, (3, 3), activation='relu'))\n",
    "    model.add(MaxPooling2D(pool_size=(2, 2)))\n",
    "    model.add(Dropout(0.2))\n",
    "\n",
    "    model.add(Flatten())\n",
    "    model.add(Dense(256, activation='relu'))\n",
    "    model.add(Dropout(0.5))\n",
    "    model.add(Dense(NUM_CLASSES, activation='softmax'))\n",
    "    return model"
   ]
  },
  {
   "cell_type": "code",
   "execution_count": 5,
   "metadata": {
    "colab": {
     "autoexec": {
      "startup": false,
      "wait_interval": 0
     }
    },
    "colab_type": "code",
    "id": "JNhUMSA-3ukP"
   },
   "outputs": [],
   "source": [
    "from keras.optimizers import SGD\n",
    "\n",
    "model = cnn_model()\n"
   ]
  },
  {
   "cell_type": "code",
   "execution_count": 6,
   "metadata": {
    "colab": {
     "autoexec": {
      "startup": false,
      "wait_interval": 0
     }
    },
    "colab_type": "code",
    "id": "G21lUzvO3xtj"
   },
   "outputs": [],
   "source": [
    "lr = 0.01\n",
    "sgd = SGD(lr=lr, decay=1e-6, momentum=0.9, nesterov=True)\n",
    "model.compile(loss='categorical_crossentropy',\n",
    "              optimizer=sgd,\n",
    "              metrics=['accuracy'])"
   ]
  },
  {
   "cell_type": "code",
   "execution_count": 7,
   "metadata": {
    "colab": {
     "autoexec": {
      "startup": false,
      "wait_interval": 0
     }
    },
    "colab_type": "code",
    "id": "bWEB2V5nmvhZ"
   },
   "outputs": [],
   "source": [
    "from sklearn.model_selection import train_test_split\n",
    "X_train,X_test,Y_train,Y_test = train_test_split(X,Y, test_size  =0.1)"
   ]
  },
  {
   "cell_type": "code",
   "execution_count": 8,
   "metadata": {
    "colab": {
     "autoexec": {
      "startup": false,
      "wait_interval": 0
     },
     "base_uri": "https://localhost:8080/",
     "height": 34
    },
    "colab_type": "code",
    "executionInfo": {
     "elapsed": 827,
     "status": "ok",
     "timestamp": 1526720987944,
     "user": {
      "displayName": "Sudhanshu Mishra",
      "photoUrl": "https://lh3.googleusercontent.com/a/default-user=s128",
      "userId": "100119643097645463867"
     },
     "user_tz": -330
    },
    "id": "fQPReig3oh_A",
    "outputId": "c95305f4-935f-4a5a-bfe0-cf73e45bac0f"
   },
   "outputs": [
    {
     "name": "stdout",
     "output_type": "stream",
     "text": [
      "(279, 3, 256, 256) (31, 3, 256, 256) (279, 6) (31, 6)\n"
     ]
    }
   ],
   "source": [
    "print(X_train.shape,X_test.shape,Y_train.shape,Y_test.shape)"
   ]
  },
  {
   "cell_type": "code",
   "execution_count": 9,
   "metadata": {
    "colab": {
     "autoexec": {
      "startup": false,
      "wait_interval": 0
     },
     "base_uri": "https://localhost:8080/",
     "height": 3128
    },
    "colab_type": "code",
    "executionInfo": {
     "elapsed": 306442,
     "status": "ok",
     "timestamp": 1526721297394,
     "user": {
      "displayName": "Sudhanshu Mishra",
      "photoUrl": "https://lh3.googleusercontent.com/a/default-user=s128",
      "userId": "100119643097645463867"
     },
     "user_tz": -330
    },
    "id": "j1XQ83R031j9",
    "outputId": "b40a6178-b1bf-4133-b4b8-2f9e4cfc1706"
   },
   "outputs": [
    {
     "name": "stdout",
     "output_type": "stream",
     "text": [
      "WARNING:tensorflow:Variable *= will be deprecated. Use variable.assign_mul if you want assignment to the variable value or 'x = x * y' if you want a new python Tensor object.\n",
      "Epoch 1/90\n",
      "279/279 [==============================] - 170s 608ms/step - loss: 1.5813 - acc: 0.3799\n",
      "Epoch 2/90\n"
     ]
    },
    {
     "name": "stderr",
     "output_type": "stream",
     "text": [
      "/usr/local/lib/python3.5/dist-packages/keras/callbacks.py:435: RuntimeWarning: Can save best model only with val_loss available, skipping.\n",
      "  'skipping.' % (self.monitor), RuntimeWarning)\n"
     ]
    },
    {
     "name": "stdout",
     "output_type": "stream",
     "text": [
      "279/279 [==============================] - 169s 606ms/step - loss: 1.5058 - acc: 0.4122\n",
      "Epoch 3/90\n",
      "279/279 [==============================] - 169s 605ms/step - loss: 1.4100 - acc: 0.4731\n",
      "Epoch 4/90\n",
      "279/279 [==============================] - 169s 605ms/step - loss: 1.3472 - acc: 0.4767\n",
      "Epoch 5/90\n",
      "279/279 [==============================] - 170s 608ms/step - loss: 1.1897 - acc: 0.5412\n",
      "Epoch 6/90\n",
      "279/279 [==============================] - 169s 604ms/step - loss: 1.2861 - acc: 0.5018\n",
      "Epoch 7/90\n",
      "279/279 [==============================] - 169s 606ms/step - loss: 1.3103 - acc: 0.5484\n",
      "Epoch 8/90\n",
      "279/279 [==============================] - 169s 605ms/step - loss: 1.0650 - acc: 0.6129\n",
      "Epoch 9/90\n",
      "279/279 [==============================] - 165s 592ms/step - loss: 1.1072 - acc: 0.5699\n",
      "Epoch 10/90\n",
      "279/279 [==============================] - 164s 588ms/step - loss: 1.1583 - acc: 0.5341\n",
      "Epoch 11/90\n",
      "279/279 [==============================] - 164s 589ms/step - loss: 1.0574 - acc: 0.6165\n",
      "Epoch 12/90\n",
      "279/279 [==============================] - 166s 594ms/step - loss: 1.0352 - acc: 0.5914\n",
      "Epoch 13/90\n",
      "279/279 [==============================] - 169s 605ms/step - loss: 0.9262 - acc: 0.6165\n",
      "Epoch 14/90\n",
      "279/279 [==============================] - 168s 603ms/step - loss: 0.8892 - acc: 0.6487\n",
      "Epoch 15/90\n",
      "279/279 [==============================] - 164s 589ms/step - loss: 0.8209 - acc: 0.6989\n",
      "Epoch 16/90\n",
      "279/279 [==============================] - 164s 589ms/step - loss: 0.8051 - acc: 0.7097\n",
      "Epoch 17/90\n",
      "279/279 [==============================] - 164s 589ms/step - loss: 0.7229 - acc: 0.7599\n",
      "Epoch 18/90\n",
      "279/279 [==============================] - 164s 588ms/step - loss: 0.6944 - acc: 0.7491\n",
      "Epoch 19/90\n",
      "279/279 [==============================] - 164s 589ms/step - loss: 0.7105 - acc: 0.7527\n",
      "Epoch 20/90\n",
      "279/279 [==============================] - 164s 588ms/step - loss: 0.6835 - acc: 0.7527\n",
      "Epoch 21/90\n",
      "279/279 [==============================] - 164s 589ms/step - loss: 0.5981 - acc: 0.7742\n",
      "Epoch 22/90\n",
      "279/279 [==============================] - 165s 592ms/step - loss: 0.6229 - acc: 0.7885\n",
      "Epoch 23/90\n",
      "279/279 [==============================] - 169s 606ms/step - loss: 0.6394 - acc: 0.7634\n",
      "Epoch 24/90\n",
      "279/279 [==============================] - 168s 603ms/step - loss: 0.5739 - acc: 0.8244\n",
      "Epoch 25/90\n",
      "279/279 [==============================] - 164s 589ms/step - loss: 0.5564 - acc: 0.7921\n",
      "Epoch 26/90\n",
      "279/279 [==============================] - 164s 589ms/step - loss: 0.6048 - acc: 0.7885\n",
      "Epoch 27/90\n",
      "279/279 [==============================] - 164s 589ms/step - loss: 0.5281 - acc: 0.8387\n",
      "Epoch 28/90\n",
      "279/279 [==============================] - 164s 588ms/step - loss: 0.5552 - acc: 0.7814\n",
      "Epoch 29/90\n",
      "279/279 [==============================] - 163s 586ms/step - loss: 0.6065 - acc: 0.7814\n",
      "Epoch 30/90\n",
      "279/279 [==============================] - 165s 591ms/step - loss: 0.5494 - acc: 0.8100\n",
      "Epoch 31/90\n",
      "279/279 [==============================] - 165s 590ms/step - loss: 0.5407 - acc: 0.7885\n",
      "Epoch 32/90\n",
      "279/279 [==============================] - 164s 589ms/step - loss: 0.5684 - acc: 0.7778\n",
      "Epoch 33/90\n",
      "279/279 [==============================] - 164s 589ms/step - loss: 0.4936 - acc: 0.8315\n",
      "Epoch 34/90\n",
      "279/279 [==============================] - 164s 589ms/step - loss: 0.5356 - acc: 0.8065\n",
      "Epoch 35/90\n",
      "279/279 [==============================] - 164s 589ms/step - loss: 0.5886 - acc: 0.7814\n",
      "Epoch 36/90\n",
      "279/279 [==============================] - 164s 589ms/step - loss: 0.5880 - acc: 0.7814\n",
      "Epoch 37/90\n",
      "279/279 [==============================] - 169s 606ms/step - loss: 0.4823 - acc: 0.8423\n",
      "Epoch 38/90\n",
      "279/279 [==============================] - 169s 607ms/step - loss: 0.5019 - acc: 0.8280\n",
      "Epoch 39/90\n",
      "279/279 [==============================] - 165s 590ms/step - loss: 0.5925 - acc: 0.7670\n",
      "Epoch 40/90\n",
      "279/279 [==============================] - 164s 589ms/step - loss: 0.5664 - acc: 0.7993\n",
      "Epoch 41/90\n",
      "279/279 [==============================] - 166s 594ms/step - loss: 0.5504 - acc: 0.7993\n",
      "Epoch 42/90\n",
      "279/279 [==============================] - 161s 579ms/step - loss: 0.5170 - acc: 0.8136\n",
      "Epoch 43/90\n",
      "279/279 [==============================] - 154s 553ms/step - loss: 0.5318 - acc: 0.8136\n",
      "Epoch 44/90\n",
      "279/279 [==============================] - 155s 555ms/step - loss: 0.5143 - acc: 0.8136\n",
      "Epoch 45/90\n",
      "279/279 [==============================] - 154s 553ms/step - loss: 0.5475 - acc: 0.7993\n",
      "Epoch 46/90\n",
      "279/279 [==============================] - 154s 553ms/step - loss: 0.5945 - acc: 0.7993\n",
      "Epoch 47/90\n",
      "279/279 [==============================] - 154s 552ms/step - loss: 0.5666 - acc: 0.7993\n",
      "Epoch 48/90\n",
      "279/279 [==============================] - 154s 553ms/step - loss: 0.5748 - acc: 0.7885\n",
      "Epoch 49/90\n",
      "279/279 [==============================] - 154s 554ms/step - loss: 0.5650 - acc: 0.8065\n",
      "Epoch 50/90\n",
      "279/279 [==============================] - 154s 553ms/step - loss: 0.5429 - acc: 0.7957\n",
      "Epoch 51/90\n",
      "279/279 [==============================] - 154s 553ms/step - loss: 0.5542 - acc: 0.7993\n",
      "Epoch 52/90\n",
      "279/279 [==============================] - 154s 553ms/step - loss: 0.5597 - acc: 0.7993\n",
      "Epoch 53/90\n",
      "279/279 [==============================] - 154s 553ms/step - loss: 0.5695 - acc: 0.8100\n",
      "Epoch 54/90\n",
      "279/279 [==============================] - 154s 553ms/step - loss: 0.5396 - acc: 0.7957\n",
      "Epoch 55/90\n",
      "279/279 [==============================] - 154s 553ms/step - loss: 0.5174 - acc: 0.8136\n",
      "Epoch 56/90\n",
      "279/279 [==============================] - 154s 553ms/step - loss: 0.5196 - acc: 0.8136\n",
      "Epoch 57/90\n",
      "279/279 [==============================] - 154s 553ms/step - loss: 0.5345 - acc: 0.8136\n",
      "Epoch 58/90\n",
      "279/279 [==============================] - 154s 553ms/step - loss: 0.5160 - acc: 0.8136\n",
      "Epoch 59/90\n",
      "279/279 [==============================] - 154s 552ms/step - loss: 0.5504 - acc: 0.7957\n",
      "Epoch 60/90\n",
      "279/279 [==============================] - 154s 553ms/step - loss: 0.4902 - acc: 0.8387\n",
      "Epoch 61/90\n",
      "279/279 [==============================] - 154s 553ms/step - loss: 0.5476 - acc: 0.7957\n",
      "Epoch 62/90\n",
      "279/279 [==============================] - 154s 552ms/step - loss: 0.5547 - acc: 0.8065\n",
      "Epoch 63/90\n",
      "279/279 [==============================] - 154s 553ms/step - loss: 0.5599 - acc: 0.8244\n",
      "Epoch 64/90\n",
      "279/279 [==============================] - 154s 553ms/step - loss: 0.5789 - acc: 0.7993\n",
      "Epoch 65/90\n",
      "279/279 [==============================] - 156s 558ms/step - loss: 0.5591 - acc: 0.8029\n",
      "Epoch 66/90\n",
      "279/279 [==============================] - 154s 553ms/step - loss: 0.5809 - acc: 0.7814\n",
      "Epoch 67/90\n",
      "279/279 [==============================] - 154s 553ms/step - loss: 0.4998 - acc: 0.8208\n",
      "Epoch 68/90\n",
      "279/279 [==============================] - 155s 555ms/step - loss: 0.5005 - acc: 0.8172\n",
      "Epoch 69/90\n",
      "279/279 [==============================] - 154s 552ms/step - loss: 0.5035 - acc: 0.8387\n",
      "Epoch 70/90\n",
      "279/279 [==============================] - 154s 553ms/step - loss: 0.5592 - acc: 0.8100\n",
      "Epoch 71/90\n",
      "279/279 [==============================] - 154s 553ms/step - loss: 0.5446 - acc: 0.7849\n",
      "Epoch 72/90\n",
      "279/279 [==============================] - 154s 553ms/step - loss: 0.5237 - acc: 0.8244\n",
      "Epoch 73/90\n",
      "279/279 [==============================] - 154s 553ms/step - loss: 0.5425 - acc: 0.8065\n",
      "Epoch 74/90\n",
      "279/279 [==============================] - 154s 553ms/step - loss: 0.5675 - acc: 0.8029\n",
      "Epoch 75/90\n",
      "279/279 [==============================] - 154s 553ms/step - loss: 0.5655 - acc: 0.7885\n",
      "Epoch 76/90\n",
      "279/279 [==============================] - 155s 555ms/step - loss: 0.5175 - acc: 0.8136\n",
      "Epoch 77/90\n",
      "279/279 [==============================] - 155s 556ms/step - loss: 0.5287 - acc: 0.8315\n",
      "Epoch 78/90\n",
      "279/279 [==============================] - 154s 553ms/step - loss: 0.4929 - acc: 0.8029\n",
      "Epoch 79/90\n",
      "279/279 [==============================] - 154s 553ms/step - loss: 0.5822 - acc: 0.7957\n",
      "Epoch 80/90\n",
      "279/279 [==============================] - 154s 553ms/step - loss: 0.5042 - acc: 0.8351\n",
      "Epoch 81/90\n",
      "279/279 [==============================] - 154s 553ms/step - loss: 0.4900 - acc: 0.8100\n",
      "Epoch 82/90\n",
      "279/279 [==============================] - 154s 553ms/step - loss: 0.5565 - acc: 0.7778\n",
      "Epoch 83/90\n",
      "279/279 [==============================] - 154s 553ms/step - loss: 0.4766 - acc: 0.8136\n",
      "Epoch 84/90\n"
     ]
    },
    {
     "name": "stdout",
     "output_type": "stream",
     "text": [
      "279/279 [==============================] - 154s 554ms/step - loss: 0.5693 - acc: 0.7742\n",
      "Epoch 85/90\n",
      "279/279 [==============================] - 154s 553ms/step - loss: 0.5560 - acc: 0.7957\n",
      "Epoch 86/90\n",
      "279/279 [==============================] - 154s 553ms/step - loss: 0.5476 - acc: 0.8029\n",
      "Epoch 87/90\n",
      "279/279 [==============================] - 154s 553ms/step - loss: 0.5141 - acc: 0.8208\n",
      "Epoch 88/90\n",
      "279/279 [==============================] - 154s 554ms/step - loss: 0.5073 - acc: 0.8029\n",
      "Epoch 89/90\n",
      "279/279 [==============================] - 154s 553ms/step - loss: 0.5300 - acc: 0.8172\n",
      "Epoch 90/90\n",
      "279/279 [==============================] - 154s 553ms/step - loss: 0.5422 - acc: 0.8065\n"
     ]
    },
    {
     "data": {
      "text/plain": [
       "<keras.callbacks.History at 0x7f925cb7c9e8>"
      ]
     },
     "execution_count": 9,
     "metadata": {},
     "output_type": "execute_result"
    }
   ],
   "source": [
    "from keras.callbacks import LearningRateScheduler, ModelCheckpoint\n",
    "\n",
    "\n",
    "def lr_schedule(epoch):\n",
    "    return lr * (0.1 ** int(epoch / 10))\n",
    "\n",
    "batch_size = 32\n",
    "epochs = 90\n",
    "\n",
    "model.fit(X_train, Y_train,batch_size=batch_size,epochs=epochs,callbacks=[LearningRateScheduler(lr_schedule),ModelCheckpoint('model.h5', save_best_only=True)])"
   ]
  },
  {
   "cell_type": "code",
   "execution_count": 10,
   "metadata": {
    "colab": {
     "autoexec": {
      "startup": false,
      "wait_interval": 0
     },
     "base_uri": "https://localhost:8080/",
     "height": 51
    },
    "colab_type": "code",
    "executionInfo": {
     "elapsed": 876,
     "status": "ok",
     "timestamp": 1526721300480,
     "user": {
      "displayName": "Sudhanshu Mishra",
      "photoUrl": "https://lh3.googleusercontent.com/a/default-user=s128",
      "userId": "100119643097645463867"
     },
     "user_tz": -330
    },
    "id": "fBApm32f4Bpm",
    "outputId": "bcf4859e-7cba-4374-f709-a48feafd3aa7"
   },
   "outputs": [
    {
     "name": "stdout",
     "output_type": "stream",
     "text": [
      "Accuracy:  0.9032258064516129\n"
     ]
    }
   ],
   "source": [
    "# predict and evaluate\n",
    "import sklearn\n",
    "from sklearn.metrics import accuracy_score\n",
    "from sklearn.preprocessing import OneHotEncoder\n",
    "y_pred = model.predict_classes(X_test)\n",
    "y_pred_encode = y_pred.reshape(len(y_pred),1)\n",
    "OneHotEncode = OneHotEncoder(sparse= False)\n",
    "y_pred_OneHotEncoded = OneHotEncode.fit_transform(y_pred_encode)\n",
    "print(\"Accuracy: \", accuracy_score(Y_test, y_pred_OneHotEncoded))"
   ]
  },
  {
   "cell_type": "code",
   "execution_count": 53,
   "metadata": {},
   "outputs": [
    {
     "name": "stdout",
     "output_type": "stream",
     "text": [
      "Requirement already satisfied: h5py in /home/sudhanshu/.local/lib/python3.5/site-packages (2.7.1)\r\n",
      "Requirement already satisfied: numpy>=1.7 in /usr/local/lib/python3.5/dist-packages (from h5py) (1.14.2)\r\n",
      "Requirement already satisfied: six in /usr/lib/python3/dist-packages (from h5py) (1.10.0)\r\n"
     ]
    }
   ],
   "source": [
    "#!pip3 install h5py"
   ]
  },
  {
   "cell_type": "code",
   "execution_count": 11,
   "metadata": {
    "colab": {
     "autoexec": {
      "startup": false,
      "wait_interval": 0
     }
    },
    "colab_type": "code",
    "id": "hzTGG-PKzPu3"
   },
   "outputs": [],
   "source": [
    "from keras.models import load_model\n",
    "# Load the model\n",
    "bot_model_filename = 'My_Trained_model.h5'\n",
    "model.save(bot_model_filename)"
   ]
  },
  {
   "cell_type": "code",
   "execution_count": 12,
   "metadata": {},
   "outputs": [],
   "source": [
    "model_loaded = load_model('My_Trained_model.h5')"
   ]
  },
  {
   "cell_type": "code",
   "execution_count": 18,
   "metadata": {},
   "outputs": [
    {
     "name": "stdout",
     "output_type": "stream",
     "text": [
      "Collecting scikit-image\n",
      "  Using cached https://files.pythonhosted.org/packages/64/18/402284ae09b6a2a8694e707b4924a1a9573bb4aa67923cf487978555e822/scikit_image-0.13.1-cp35-cp35m-manylinux1_x86_64.whl\n",
      "Collecting networkx>=1.8 (from scikit-image)\n",
      "Collecting PyWavelets>=0.4.0 (from scikit-image)\n",
      "  Using cached https://files.pythonhosted.org/packages/5a/1f/203c8886c7b94286ddbbf418779f4303774b65c20474a8b554598c483e90/PyWavelets-0.5.2-cp35-cp35m-manylinux1_x86_64.whl\n",
      "Requirement already satisfied: pillow>=2.1.0 in /usr/lib/python3/dist-packages (from scikit-image) (3.1.2)\n",
      "Requirement already satisfied: scipy>=0.17.0 in /usr/local/lib/python3.5/dist-packages (from scikit-image) (1.0.1)\n",
      "Requirement already satisfied: matplotlib>=1.3.1 in /home/sudhanshu/.local/lib/python3.5/site-packages (from scikit-image) (2.2.2)\n",
      "Requirement already satisfied: six>=1.7.3 in /usr/lib/python3/dist-packages (from scikit-image) (1.10.0)\n",
      "Requirement already satisfied: decorator>=4.1.0 in /home/sudhanshu/.local/lib/python3.5/site-packages (from networkx>=1.8->scikit-image) (4.3.0)\n",
      "Requirement already satisfied: numpy>=1.9.1 in /usr/local/lib/python3.5/dist-packages (from PyWavelets>=0.4.0->scikit-image) (1.14.2)\n",
      "Requirement already satisfied: python-dateutil>=2.1 in /home/sudhanshu/.local/lib/python3.5/site-packages (from matplotlib>=1.3.1->scikit-image) (2.7.2)\n",
      "Requirement already satisfied: pyparsing!=2.0.4,!=2.1.2,!=2.1.6,>=2.0.1 in /usr/lib/python3/dist-packages (from matplotlib>=1.3.1->scikit-image) (2.0.3)\n",
      "Requirement already satisfied: pytz in /home/sudhanshu/.local/lib/python3.5/site-packages (from matplotlib>=1.3.1->scikit-image) (2018.4)\n",
      "Requirement already satisfied: kiwisolver>=1.0.1 in /home/sudhanshu/.local/lib/python3.5/site-packages (from matplotlib>=1.3.1->scikit-image) (1.0.1)\n",
      "Requirement already satisfied: cycler>=0.10 in /home/sudhanshu/.local/lib/python3.5/site-packages (from matplotlib>=1.3.1->scikit-image) (0.10.0)\n",
      "Requirement already satisfied: setuptools in /usr/lib/python3/dist-packages (from kiwisolver>=1.0.1->matplotlib>=1.3.1->scikit-image) (20.7.0)\n",
      "Installing collected packages: networkx, PyWavelets, scikit-image\n",
      "Successfully installed PyWavelets-0.5.2 networkx-2.1 scikit-image-0.13.1\n"
     ]
    }
   ],
   "source": [
    "#!pip3 install --user scikit-image"
   ]
  },
  {
   "cell_type": "code",
   "execution_count": 19,
   "metadata": {
    "colab": {
     "autoexec": {
      "startup": false,
      "wait_interval": 0
     }
    },
    "colab_type": "code",
    "id": "ncU5-1EQNdqg"
   },
   "outputs": [],
   "source": [
    "import numpy as np\n",
    "from skimage import color, exposure, transform\n",
    "\n",
    "NUM_CLASSES = 6\n",
    "IMG_SIZE = 256\n",
    "\n",
    "\n",
    "def preprocess_img(img):\n",
    "    # Histogram normalization in v channel\n",
    "    hsv = color.rgb2hsv(img)\n",
    "    hsv[:, :, 2] = exposure.equalize_hist(hsv[:, :, 2])\n",
    "    img = color.hsv2rgb(hsv)\n",
    "\n",
    "    # central square crop\n",
    "    min_side = min(img.shape[:-1])\n",
    "    centre = img.shape[0] // 2, img.shape[1] // 2\n",
    "    img = img[centre[0] - min_side // 2:centre[0] + min_side // 2,\n",
    "              centre[1] - min_side // 2:centre[1] + min_side // 2,\n",
    "              :]\n",
    "\n",
    "    # rescale to standard size\n",
    "    img = transform.resize(img, (IMG_SIZE, IMG_SIZE))\n",
    "\n",
    "    # roll color axis to axis 0\n",
    "    img = np.rollaxis(img, -1)\n",
    "\n",
    "    return img"
   ]
  },
  {
   "cell_type": "code",
   "execution_count": 24,
   "metadata": {
    "colab": {
     "autoexec": {
      "startup": false,
      "wait_interval": 0
     },
     "base_uri": "https://localhost:8080/",
     "height": 71
    },
    "colab_type": "code",
    "executionInfo": {
     "elapsed": 2620,
     "status": "ok",
     "timestamp": 1526721763035,
     "user": {
      "displayName": "Sudhanshu Mishra",
      "photoUrl": "https://lh3.googleusercontent.com/a/default-user=s128",
      "userId": "100119643097645463867"
     },
     "user_tz": -330
    },
    "id": "XYS3ym6nNqrj",
    "outputId": "405c5db6-6eb4-4a88-d3e2-74771de8450d"
   },
   "outputs": [
    {
     "name": "stderr",
     "output_type": "stream",
     "text": [
      "/home/sudhanshu/.local/lib/python3.5/site-packages/skimage/transform/_warps.py:84: UserWarning: The default mode, 'constant', will be changed to 'reflect' in skimage 0.15.\n",
      "  warn(\"The default mode, 'constant', will be changed to 'reflect' in \"\n"
     ]
    }
   ],
   "source": [
    "from skimage import io\n",
    "import os\n",
    "import glob\n",
    "\n",
    "def get_class(turn_numeric):\n",
    "    return{\n",
    "        0:\"left\",\n",
    "        1:\"right\",\n",
    "        2:\"stop\",\n",
    "        3:\"u\",\n",
    "        4:\"traffic\",\n",
    "        5: \"misc\"        \n",
    "    }[turn_numeric]\n",
    "\n",
    "#img_path = \"camera_right.png\"\n",
    "#img_path = \"camera_left.png\"\n",
    "img_path = \"camera.png\"\n",
    "img = preprocess_img(io.imread(img_path))\n",
    "\n",
    "X_predict = np.array(img, dtype='float32')\n",
    "X_predict_new = np.expand_dims(X_predict, axis =0)\n",
    "turn_num_ = model_loaded.predict_classes(X_predict_new)\n",
    "turn = get_class(turn_num_[0])"
   ]
  },
  {
   "cell_type": "code",
   "execution_count": 25,
   "metadata": {
    "colab": {
     "autoexec": {
      "startup": false,
      "wait_interval": 0
     },
     "base_uri": "https://localhost:8080/",
     "height": 34
    },
    "colab_type": "code",
    "executionInfo": {
     "elapsed": 881,
     "status": "ok",
     "timestamp": 1526721770009,
     "user": {
      "displayName": "Sudhanshu Mishra",
      "photoUrl": "https://lh3.googleusercontent.com/a/default-user=s128",
      "userId": "100119643097645463867"
     },
     "user_tz": -330
    },
    "id": "IhILG4qcguEk",
    "outputId": "b4a0471e-b5cb-4f0e-ed1d-f84e17e73ce6"
   },
   "outputs": [
    {
     "data": {
      "text/plain": [
       "'stop'"
      ]
     },
     "execution_count": 25,
     "metadata": {},
     "output_type": "execute_result"
    }
   ],
   "source": [
    "turn"
   ]
  },
  {
   "cell_type": "code",
   "execution_count": null,
   "metadata": {},
   "outputs": [],
   "source": []
  }
 ],
 "metadata": {
  "accelerator": "GPU",
  "colab": {
   "collapsed_sections": [],
   "default_view": {},
   "name": "Turtle_Bot_new.ipynb",
   "provenance": [],
   "version": "0.3.2",
   "views": {}
  },
  "kernelspec": {
   "display_name": "Python 3",
   "language": "python",
   "name": "python3"
  },
  "language_info": {
   "codemirror_mode": {
    "name": "ipython",
    "version": 3
   },
   "file_extension": ".py",
   "mimetype": "text/x-python",
   "name": "python",
   "nbconvert_exporter": "python",
   "pygments_lexer": "ipython3",
   "version": "3.5.2"
  }
 },
 "nbformat": 4,
 "nbformat_minor": 1
}
